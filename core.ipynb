{
 "cells": [
  {
   "cell_type": "code",
   "execution_count": null,
   "metadata": {},
   "outputs": [],
   "source": [
    "# default_exp core"
   ]
  },
  {
   "cell_type": "code",
   "execution_count": null,
   "metadata": {},
   "outputs": [],
   "source": [
    "# export\n",
    "import os\n",
    "import sys\n",
    "from collections import defaultdict\n",
    "\n",
    "from IPython.core.getipython import get_ipython\n",
    "from nbformat import write\n",
    "from nbformat.v4 import new_code_cell, new_notebook, output_from_msg"
   ]
  },
  {
   "cell_type": "code",
   "execution_count": null,
   "metadata": {},
   "outputs": [],
   "source": [
    "# hide\n",
    "from nbdev.showdoc import *"
   ]
  },
  {
   "cell_type": "markdown",
   "metadata": {},
   "source": [
    "# core\n",
    "\n",
    "> Enable saving current notebook execution history as a notebook"
   ]
  },
  {
   "cell_type": "code",
   "execution_count": null,
   "metadata": {},
   "outputs": [],
   "source": [
    "# exporti\n",
    "class NotebookHistory:\n",
    "    def __init__(self):\n",
    "        self.outputs = defaultdict(list)\n",
    "        self.transient_display = {}\n",
    "        self.shell = get_ipython()\n",
    "\n",
    "        self.orig_send = sys.stdout.session.send\n",
    "\n",
    "        def send(*args, **kwargs):\n",
    "            msg = self.orig_send(*args, **kwargs)\n",
    "            self._save_msg(msg)\n",
    "            return msg\n",
    "\n",
    "        sys.stdout.session.send = send\n",
    "\n",
    "    def _save_msg(self, msg):\n",
    "        msg_type = msg[\"header\"][\"msg_type\"]\n",
    "        if msg_type in [\"execute_result\", \"stream\", \"display_data\", \"error\"]:\n",
    "            self.outputs[self.shell.execution_count].append(msg)\n",
    "            if (\n",
    "                msg_type == \"display_data\"\n",
    "                and \"display_id\" in msg[\"content\"][\"transient\"]\n",
    "            ):\n",
    "                display_id = msg[\"content\"][\"transient\"][\"display_id\"]\n",
    "                self.transient_display[display_id] = msg\n",
    "        if (\n",
    "            msg_type == \"update_display_data\"\n",
    "            and \"display_id\" in msg[\"content\"][\"transient\"]\n",
    "        ):\n",
    "            display_id = msg[\"content\"][\"transient\"][\"display_id\"]\n",
    "            self.transient_display[display_id][\"content\"] = msg[\"content\"]\n",
    "\n",
    "    def __del__(self):\n",
    "        sys.stdout.session.send = self.orig_send\n",
    "\n",
    "    def _cell(self, _, execution_count, exc):\n",
    "        outputs = [output_from_msg(msg) for msg in self.outputs[execution_count]]\n",
    "        return new_code_cell(\n",
    "            execution_count=execution_count, source=exc[0], outputs=outputs\n",
    "        )\n",
    "\n",
    "    def save_history(self, path):\n",
    "        sys.stdout.flush()\n",
    "        sys.stderr.flush()\n",
    "\n",
    "        cells = [\n",
    "            self._cell(*args)\n",
    "            for args in self.shell.history_manager.get_range(output=True)\n",
    "        ]\n",
    "        nb = new_notebook(cells=cells)\n",
    "        os.makedirs(os.path.dirname(path), exist_ok=True)\n",
    "        with open(path, \"w\", encoding=\"utf-8\") as f:\n",
    "            write(nb, f, version=4)\n",
    "\n",
    "\n",
    "if \"_NOTEBOOK_HISTORY\" not in globals():\n",
    "    _NOTEBOOK_HISTORY = NotebookHistory()"
   ]
  },
  {
   "cell_type": "code",
   "execution_count": null,
   "metadata": {},
   "outputs": [],
   "source": [
    "# export\n",
    "def save_notebook_history(path, verbose=True):\n",
    "    \"\"\" Save current notebook history to `path` \"\"\"\n",
    "    _NOTEBOOK_HISTORY.save_history(path)\n",
    "    if verbose:\n",
    "        print(f\"Notebook history saved to {path}\")"
   ]
  },
  {
   "cell_type": "code",
   "execution_count": null,
   "metadata": {},
   "outputs": [
    {
     "name": "stdout",
     "output_type": "stream",
     "text": [
      "Notebook history saved to tmp/my_history.ipynb\n"
     ]
    }
   ],
   "source": [
    "save_notebook_history(\"tmp/my_history.ipynb\")"
   ]
  },
  {
   "cell_type": "code",
   "execution_count": null,
   "metadata": {},
   "outputs": [
    {
     "name": "stdout",
     "output_type": "stream",
     "text": [
      "Converted core.ipynb.\n",
      "Converted index.ipynb.\n"
     ]
    }
   ],
   "source": [
    "# hide\n",
    "from nbdev.export import notebook2script\n",
    "\n",
    "notebook2script()"
   ]
  }
 ],
 "metadata": {
  "kernelspec": {
   "display_name": "Python 3 (ipykernel)",
   "language": "python",
   "name": "python3"
  }
 },
 "nbformat": 4,
 "nbformat_minor": 4
}
